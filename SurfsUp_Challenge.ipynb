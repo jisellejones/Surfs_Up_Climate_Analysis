{
 "cells": [
  {
   "cell_type": "code",
   "execution_count": 2,
   "metadata": {},
   "outputs": [],
   "source": [
    "# Dependencies\n",
    "import numpy as np\n",
    "import pandas as pd\n",
    "import matplotlib.pyplot as plt\n",
    "import datetime as dt\n",
    "\n",
    "# Python SQL toolkit and Object Relational Mapper\n",
    "import sqlalchemy\n",
    "from sqlalchemy.ext.automap import automap_base\n",
    "from sqlalchemy.orm import Session\n",
    "from sqlalchemy import create_engine, func"
   ]
  },
  {
   "cell_type": "code",
   "execution_count": 3,
   "metadata": {},
   "outputs": [],
   "source": [
    "engine = create_engine(\"sqlite:///hawaii.sqlite\")\n",
    "\n",
    "# reflect an existing database into a new model\n",
    "Base = automap_base()\n",
    "# reflect the tables\n",
    "Base.prepare(engine, reflect=True)\n",
    "\n",
    "# Save references to each table\n",
    "Measurement = Base.classes.measurement\n",
    "Station = Base.classes.station"
   ]
  },
  {
   "cell_type": "code",
   "execution_count": 4,
   "metadata": {},
   "outputs": [],
   "source": [
    "# Create our session (link) from Python to the DB\n",
    "session = Session(engine)"
   ]
  },
  {
   "cell_type": "markdown",
   "metadata": {},
   "source": [
    "## D1: Determine the Summary Statistics for June"
   ]
  },
  {
   "cell_type": "code",
   "execution_count": 5,
   "metadata": {},
   "outputs": [],
   "source": [
    "# 1. Import the sqlalchemy extract function.\n",
    "from sqlalchemy import extract\n",
    "\n",
    "# 2. Write a query that filters the Measurement table to retrieve the temperatures for the month of June. \n",
    "results = session.query(Measurement.tobs).\\\n",
    "filter(func.strftime(\"%m\", Measurement.date) == \"06\").all()"
   ]
  },
  {
   "cell_type": "code",
   "execution_count": 6,
   "metadata": {},
   "outputs": [],
   "source": [
    "#  3. Convert the June temperatures to a list.\n",
    "june_temps = list(np.ravel(results))"
   ]
  },
  {
   "cell_type": "code",
   "execution_count": 7,
   "metadata": {},
   "outputs": [],
   "source": [
    "# 4. Create a DataFrame from the list of temperatures for the month of June. \n",
    "june_temps_df = pd.DataFrame(june_temps, columns = [\"June\"])"
   ]
  },
  {
   "cell_type": "code",
   "execution_count": 8,
   "metadata": {},
   "outputs": [
    {
     "name": "stdout",
     "output_type": "stream",
     "text": [
      "              June\n",
      "count  1700.000000\n",
      "mean     74.944118\n",
      "std       3.257417\n",
      "min      64.000000\n",
      "25%      73.000000\n",
      "50%      75.000000\n",
      "75%      77.000000\n",
      "max      85.000000\n"
     ]
    }
   ],
   "source": [
    "# 5. Calculate and print out the summary statistics for the June temperature DataFrame.\n",
    "june_temps_stats = june_temps_df.describe()\n",
    "print(june_temps_stats)"
   ]
  },
  {
   "cell_type": "markdown",
   "metadata": {},
   "source": [
    "## D2: Determine the Summary Statistics for December"
   ]
  },
  {
   "cell_type": "code",
   "execution_count": 9,
   "metadata": {},
   "outputs": [],
   "source": [
    "# 6. Write a query that filters the Measurement table to retrieve the temperatures for the month of December.\n",
    "results = session.query(Measurement.tobs).\\\n",
    "    filter(func.strftime(\"%m\", Measurement.date) == \"12\").all()"
   ]
  },
  {
   "cell_type": "code",
   "execution_count": 10,
   "metadata": {},
   "outputs": [],
   "source": [
    "# 7. Convert the December temperatures to a list.\n",
    "dec_temps = list(np.ravel(results))"
   ]
  },
  {
   "cell_type": "code",
   "execution_count": 11,
   "metadata": {},
   "outputs": [],
   "source": [
    "# 8. Create a DataFrame from the list of temperatures for the month of December. \n",
    "dec_temps_df = pd.DataFrame(dec_temps, columns = [\"Dec\"])"
   ]
  },
  {
   "cell_type": "code",
   "execution_count": 12,
   "metadata": {},
   "outputs": [
    {
     "name": "stdout",
     "output_type": "stream",
     "text": [
      "               Dec\n",
      "count  1517.000000\n",
      "mean     71.041529\n",
      "std       3.745920\n",
      "min      56.000000\n",
      "25%      69.000000\n",
      "50%      71.000000\n",
      "75%      74.000000\n",
      "max      83.000000\n"
     ]
    }
   ],
   "source": [
    "# 9. Calculate and print out the summary statistics for the Decemeber temperature DataFrame.\n",
    "dec_temps_stats = dec_temps_df.describe()\n",
    "print(dec_temps_stats)"
   ]
  },
  {
   "cell_type": "markdown",
   "metadata": {},
   "source": [
    "## Code for Summary"
   ]
  },
  {
   "cell_type": "code",
   "execution_count": 13,
   "metadata": {},
   "outputs": [
    {
     "data": {
      "text/html": [
       "<div>\n",
       "<style scoped>\n",
       "    .dataframe tbody tr th:only-of-type {\n",
       "        vertical-align: middle;\n",
       "    }\n",
       "\n",
       "    .dataframe tbody tr th {\n",
       "        vertical-align: top;\n",
       "    }\n",
       "\n",
       "    .dataframe thead th {\n",
       "        text-align: right;\n",
       "    }\n",
       "</style>\n",
       "<table border=\"1\" class=\"dataframe\">\n",
       "  <thead>\n",
       "    <tr style=\"text-align: right;\">\n",
       "      <th></th>\n",
       "      <th>June</th>\n",
       "      <th>Dec</th>\n",
       "    </tr>\n",
       "  </thead>\n",
       "  <tbody>\n",
       "    <tr>\n",
       "      <th>count</th>\n",
       "      <td>1700.000000</td>\n",
       "      <td>1517.000000</td>\n",
       "    </tr>\n",
       "    <tr>\n",
       "      <th>mean</th>\n",
       "      <td>74.944118</td>\n",
       "      <td>71.041529</td>\n",
       "    </tr>\n",
       "    <tr>\n",
       "      <th>std</th>\n",
       "      <td>3.257417</td>\n",
       "      <td>3.745920</td>\n",
       "    </tr>\n",
       "    <tr>\n",
       "      <th>min</th>\n",
       "      <td>64.000000</td>\n",
       "      <td>56.000000</td>\n",
       "    </tr>\n",
       "    <tr>\n",
       "      <th>25%</th>\n",
       "      <td>73.000000</td>\n",
       "      <td>69.000000</td>\n",
       "    </tr>\n",
       "    <tr>\n",
       "      <th>50%</th>\n",
       "      <td>75.000000</td>\n",
       "      <td>71.000000</td>\n",
       "    </tr>\n",
       "    <tr>\n",
       "      <th>75%</th>\n",
       "      <td>77.000000</td>\n",
       "      <td>74.000000</td>\n",
       "    </tr>\n",
       "    <tr>\n",
       "      <th>max</th>\n",
       "      <td>85.000000</td>\n",
       "      <td>83.000000</td>\n",
       "    </tr>\n",
       "  </tbody>\n",
       "</table>\n",
       "</div>"
      ],
      "text/plain": [
       "              June          Dec\n",
       "count  1700.000000  1517.000000\n",
       "mean     74.944118    71.041529\n",
       "std       3.257417     3.745920\n",
       "min      64.000000    56.000000\n",
       "25%      73.000000    69.000000\n",
       "50%      75.000000    71.000000\n",
       "75%      77.000000    74.000000\n",
       "max      85.000000    83.000000"
      ]
     },
     "execution_count": 13,
     "metadata": {},
     "output_type": "execute_result"
    }
   ],
   "source": [
    "# Merge the stats into one table\n",
    "combined_temps_stats = june_temps_stats.join(dec_temps_stats, how = \"inner\")\n",
    "combined_temps_stats\n"
   ]
  },
  {
   "cell_type": "code",
   "execution_count": 24,
   "metadata": {},
   "outputs": [
    {
     "data": {
      "text/plain": [
       "Text(0, 0.5, 'Temperature °F')"
      ]
     },
     "execution_count": 24,
     "metadata": {},
     "output_type": "execute_result"
    },
    {
     "data": {
      "image/png": "[encoded data removed]",
      "text/plain": [
       "<Figure size 432x288 with 1 Axes>"
      ]
     },
     "metadata": {
      "needs_background": "light"
     },
     "output_type": "display_data"
    }
   ],
   "source": [
    "# Merge June and Dec temps into one dataframe\n",
    "combined_temps = june_temps_df.join(dec_temps_df, how = \"inner\")\n",
    "\n",
    "# Consider a histogram of temps/precipitation\n",
    "# Make boxplot of temps\n",
    "combined_temps.boxplot()\n",
    "plt.title(\"June and December Temperatures\")\n",
    "plt.ylabel(\"Temperature °F\")"
   ]
  },
  {
   "cell_type": "code",
   "execution_count": 37,
   "metadata": {},
   "outputs": [
    {
     "data": {
      "text/plain": [
       "Text(0.5, 0, 'Degrees Fahrenheit')"
      ]
     },
     "execution_count": 37,
     "metadata": {},
     "output_type": "execute_result"
    },
    {
     "data": {
      "image/png": "[encoded data removed]",
      "text/plain": [
       "<Figure size 432x288 with 1 Axes>"
      ]
     },
     "metadata": {
      "needs_background": "light"
     },
     "output_type": "display_data"
    }
   ],
   "source": [
    "# Make histogram of June temps\n",
    "june_temps_df.plot.hist(legend=None)\n",
    "plt.title(\"June Temperatures\")\n",
    "plt.xlabel(\"Degrees Fahrenheit\")"
   ]
  },
  {
   "cell_type": "code",
   "execution_count": 38,
   "metadata": {},
   "outputs": [
    {
     "data": {
      "text/plain": [
       "Text(0.5, 0, 'Degrees Fahrenheit')"
      ]
     },
     "execution_count": 38,
     "metadata": {},
     "output_type": "execute_result"
    },
    {
     "data": {
      "image/png": "[encoded data removed]",
      "text/plain": [
       "<Figure size 432x288 with 1 Axes>"
      ]
     },
     "metadata": {
      "needs_background": "light"
     },
     "output_type": "display_data"
    }
   ],
   "source": [
    "# Make histogram of December temps\n",
    "dec_temps_df.plot.hist(legend = None)\n",
    "plt.title(\"December Temperatures\")\n",
    "plt.xlabel(\"Degrees Fahrenheit\")"
   ]
  },
  {
   "cell_type": "code",
   "execution_count": 48,
   "metadata": {},
   "outputs": [
    {
     "data": {
      "text/plain": [
       "Text(0, 0.5, 'Rainfall (Inches)')"
      ]
     },
     "execution_count": 48,
     "metadata": {},
     "output_type": "execute_result"
    },
    {
     "data": {
      "image/png": "[encoded data removed]",
      "text/plain": [
       "<Figure size 432x288 with 1 Axes>"
      ]
     },
     "metadata": {
      "needs_background": "light"
     },
     "output_type": "display_data"
    }
   ],
   "source": [
    "# Get precipitation data for June\n",
    "\n",
    "# Get a list from database for precipitation in June\n",
    "june_prcp = session.query(Measurement.date, Measurement.prcp).\\\n",
    "    filter(func.strftime(\"%m\", Measurement.date) == \"06\").all()\n",
    "june_prcp_df = pd.DataFrame(june_prcp, columns = [\"Date\", \"Precipitation\"])\n",
    "june_prcp_df.set_index(june_prcp_df['Date'], inplace=True)\n",
    "june_prcp_df.sort_index()\n",
    "#print(june_prcp_df.describe())\n",
    "june_prcp_df.dropna()\n",
    "june_prcp_df['Date']= pd.to_datetime(june_prcp_df['Date'])\n",
    "june_prcp_stats = june_prcp_df.groupby(june_prcp_df['Date'].map(lambda x: x.year)).describe()\n",
    "june_mean = june_prcp_stats['Precipitation', 'mean']\n",
    "june_mean.plot.bar()\n",
    "plt.title(\"Average June Precipitation 2010 - 2017\")\n",
    "plt.ylabel(\"Rainfall (Inches)\")\n",
    "#june_prcp_df.plot.line()"
   ]
  },
  {
   "cell_type": "code",
   "execution_count": 50,
   "metadata": {},
   "outputs": [
    {
     "data": {
      "text/plain": [
       "Text(0, 0.5, 'Rainfall (Inches)')"
      ]
     },
     "execution_count": 50,
     "metadata": {},
     "output_type": "execute_result"
    },
    {
     "data": {
      "image/png": "[encoded data removed]",
      "text/plain": [
       "<Figure size 432x288 with 1 Axes>"
      ]
     },
     "metadata": {
      "needs_background": "light"
     },
     "output_type": "display_data"
    }
   ],
   "source": [
    "# Get a list from database for precipitation in June\n",
    "dec_prcp = session.query(Measurement.date, Measurement.prcp).\\\n",
    "    filter(func.strftime(\"%m\", Measurement.date) == \"12\").all()\n",
    "\n",
    "dec_prcp_df = pd.DataFrame(dec_prcp, columns = [\"Date\", \"Precipitation\"])\n",
    "dec_prcp_df.set_index(dec_prcp_df['Date'], inplace=True)\n",
    "dec_prcp_df.sort_index()\n",
    "dec_prcp_df.dropna()\n",
    "dec_prcp_df['Date']= pd.to_datetime(dec_prcp_df['Date'])\n",
    "dec_prcp_stats = dec_prcp_df.groupby(dec_prcp_df['Date'].map(lambda x: x.year)).describe()\n",
    "dec_mean = dec_prcp_stats['Precipitation', 'mean']\n",
    "dec_median = dec_prcp_stats['Precipitation', '50%']\n",
    "dec_mean.plot.bar()\n",
    "plt.title(\"Average December Precipitation 2010 - 2016\")\n",
    "plt.ylabel(\"Rainfall (Inches)\")"
   ]
  },
  {
   "cell_type": "code",
   "execution_count": null,
   "metadata": {},
   "outputs": [],
   "source": []
  },
  {
   "cell_type": "code",
   "execution_count": null,
   "metadata": {},
   "outputs": [],
   "source": []
  }
 ],
 "metadata": {
  "kernelspec": {
   "display_name": "pythonData3.7",
   "language": "python",
   "name": "pythondata3.7"
  },
  "language_info": {
   "codemirror_mode": {
    "name": "ipython",
    "version": 3
   },
   "file_extension": ".py",
   "mimetype": "text/x-python",
   "name": "python",
   "nbconvert_exporter": "python",
   "pygments_lexer": "ipython3",
   "version": "3.7.10"
  }
 },
 "nbformat": 4,
 "nbformat_minor": 2
}
